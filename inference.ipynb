{
 "cells": [
  {
   "cell_type": "code",
   "execution_count": 9,
   "id": "d72d543d",
   "metadata": {},
   "outputs": [],
   "source": [
    "from example.inference import load_models, prediction"
   ]
  },
  {
   "cell_type": "code",
   "execution_count": 10,
   "id": "7da49b4d",
   "metadata": {},
   "outputs": [
    {
     "name": "stderr",
     "output_type": "stream",
     "text": [
      "All model checkpoint layers were used when initializing TFGPT2LMHeadModel.\n",
      "\n",
      "All the layers of TFGPT2LMHeadModel were initialized from the model checkpoint at saiful9379/Bangla_GPT2.\n",
      "If your task is similar to the task the model of the checkpoint was trained on, you can already use TFGPT2LMHeadModel for predictions without further training.\n"
     ]
    }
   ],
   "source": [
    "model, tokenizer = load_models(\"saiful9379/Bangla_GPT2\")"
   ]
  },
  {
   "cell_type": "code",
   "execution_count": 11,
   "id": "9e7638fb",
   "metadata": {},
   "outputs": [
    {
     "name": "stderr",
     "output_type": "stream",
     "text": [
      "The attention mask and the pad token id were not set. As a consequence, you may observe unexpected behavior. Please pass your input's `attention_mask` to obtain reliable results.\n",
      "Setting `pad_token_id` to 2 (first `eos_token_id`) to generate sequence\n"
     ]
    }
   ],
   "source": [
    "text = [\"গাজীপুরের কালিয়াকৈর উপজেলার তেলিরচালা\"]\n",
    "p_text = prediction(text[0], model, tokenizer )"
   ]
  },
  {
   "cell_type": "code",
   "execution_count": 12,
   "id": "d5a0b104",
   "metadata": {},
   "outputs": [
    {
     "name": "stdout",
     "output_type": "stream",
     "text": [
      "গাজীপুরের কালিয়াকৈর উপজেলার তেলিরচালা গ্রামে অবস্থিত বিদ্যালয়ের প্রধান শিক্ষক আবদুল হাই বাচ্চুকে গৃহবন্দী করে রাখা হয়েছে এবং তিনি তাঁর ব্যক্তিগত কোনো সম্পর্ক ছাড়তে না দেওয়ায় এলাকাবাসীর উদ্বেগ-উৎকণ্ঠা বেড়েই চলেছে। বৃহস্পতি\n",
      "বিএনপির নেতৃত\n"
     ]
    }
   ],
   "source": [
    "print(p_text)"
   ]
  },
  {
   "cell_type": "code",
   "execution_count": null,
   "id": "837b113b",
   "metadata": {},
   "outputs": [
    {
     "name": "stderr",
     "output_type": "stream",
     "text": [
      "The attention mask and the pad token id were not set. As a consequence, you may observe unexpected behavior. Please pass your input's `attention_mask` to obtain reliable results.\n",
      "Setting `pad_token_id` to 2 (first `eos_token_id`) to generate sequence\n"
     ]
    }
   ],
   "source": [
    "text = \"বহুল আলোচিত দশম জাতীয় সংসদ\"\n",
    "p_text = prediction(text[0], model, tokenizer )"
   ]
  },
  {
   "cell_type": "code",
   "execution_count": null,
   "id": "2e31eecc",
   "metadata": {},
   "outputs": [],
   "source": [
    "p_text"
   ]
  },
  {
   "cell_type": "code",
   "execution_count": null,
   "id": "bed45595",
   "metadata": {},
   "outputs": [],
   "source": []
  }
 ],
 "metadata": {
  "kernelspec": {
   "display_name": "Python [conda env:sufia] *",
   "language": "python",
   "name": "conda-env-sufia-py"
  },
  "language_info": {
   "codemirror_mode": {
    "name": "ipython",
    "version": 3
   },
   "file_extension": ".py",
   "mimetype": "text/x-python",
   "name": "python",
   "nbconvert_exporter": "python",
   "pygments_lexer": "ipython3",
   "version": "3.8.13"
  }
 },
 "nbformat": 4,
 "nbformat_minor": 5
}
