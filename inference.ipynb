{
 "cells": [
  {
   "cell_type": "code",
   "execution_count": 1,
   "id": "d72d543d",
   "metadata": {},
   "outputs": [
    {
     "name": "stderr",
     "output_type": "stream",
     "text": [
      "/home/user/anaconda3/envs/sufia/lib/python3.8/site-packages/tqdm/auto.py:22: TqdmWarning: IProgress not found. Please update jupyter and ipywidgets. See https://ipywidgets.readthedocs.io/en/stable/user_install.html\n",
      "  from .autonotebook import tqdm as notebook_tqdm\n"
     ]
    }
   ],
   "source": [
    "from example.inference import load_models, prediction"
   ]
  },
  {
   "cell_type": "code",
   "execution_count": 2,
   "id": "7da49b4d",
   "metadata": {},
   "outputs": [
    {
     "name": "stderr",
     "output_type": "stream",
     "text": [
      "2023-03-07 23:08:07.743094: I tensorflow/stream_executor/cuda/cuda_gpu_executor.cc:937] successful NUMA node read from SysFS had negative value (-1), but there must be at least one NUMA node, so returning NUMA node zero\n",
      "2023-03-07 23:08:07.748949: I tensorflow/stream_executor/cuda/cuda_gpu_executor.cc:937] successful NUMA node read from SysFS had negative value (-1), but there must be at least one NUMA node, so returning NUMA node zero\n",
      "2023-03-07 23:08:07.749695: I tensorflow/stream_executor/cuda/cuda_gpu_executor.cc:937] successful NUMA node read from SysFS had negative value (-1), but there must be at least one NUMA node, so returning NUMA node zero\n",
      "2023-03-07 23:08:07.750917: I tensorflow/core/platform/cpu_feature_guard.cc:142] This TensorFlow binary is optimized with oneAPI Deep Neural Network Library (oneDNN) to use the following CPU instructions in performance-critical operations:  AVX2 FMA\n",
      "To enable them in other operations, rebuild TensorFlow with the appropriate compiler flags.\n",
      "2023-03-07 23:08:07.751793: I tensorflow/stream_executor/cuda/cuda_gpu_executor.cc:937] successful NUMA node read from SysFS had negative value (-1), but there must be at least one NUMA node, so returning NUMA node zero\n",
      "2023-03-07 23:08:07.752431: I tensorflow/stream_executor/cuda/cuda_gpu_executor.cc:937] successful NUMA node read from SysFS had negative value (-1), but there must be at least one NUMA node, so returning NUMA node zero\n",
      "2023-03-07 23:08:07.753024: I tensorflow/stream_executor/cuda/cuda_gpu_executor.cc:937] successful NUMA node read from SysFS had negative value (-1), but there must be at least one NUMA node, so returning NUMA node zero\n",
      "2023-03-07 23:08:08.043025: I tensorflow/stream_executor/cuda/cuda_gpu_executor.cc:937] successful NUMA node read from SysFS had negative value (-1), but there must be at least one NUMA node, so returning NUMA node zero\n",
      "2023-03-07 23:08:08.043603: I tensorflow/stream_executor/cuda/cuda_gpu_executor.cc:937] successful NUMA node read from SysFS had negative value (-1), but there must be at least one NUMA node, so returning NUMA node zero\n",
      "2023-03-07 23:08:08.044072: I tensorflow/stream_executor/cuda/cuda_gpu_executor.cc:937] successful NUMA node read from SysFS had negative value (-1), but there must be at least one NUMA node, so returning NUMA node zero\n",
      "2023-03-07 23:08:08.044526: I tensorflow/core/common_runtime/gpu/gpu_device.cc:1510] Created device /job:localhost/replica:0/task:0/device:GPU:0 with 21804 MB memory:  -> device: 0, name: NVIDIA GeForce RTX 3090 Ti, pci bus id: 0000:08:00.0, compute capability: 8.6\n",
      "2023-03-07 23:08:08.207563: W tensorflow/python/util/util.cc:348] Sets are not currently considered sequences, but this may change in the future, so consider avoiding using them.\n",
      "2023-03-07 23:08:08.588576: I tensorflow/stream_executor/cuda/cuda_blas.cc:1760] TensorFloat-32 will be used for the matrix multiplication. This will only be logged once.\n",
      "All model checkpoint layers were used when initializing TFGPT2LMHeadModel.\n",
      "\n",
      "All the layers of TFGPT2LMHeadModel were initialized from the model checkpoint at saiful9379/Bangla_GPT2.\n",
      "If your task is similar to the task the model of the checkpoint was trained on, you can already use TFGPT2LMHeadModel for predictions without further training.\n"
     ]
    }
   ],
   "source": [
    "model, tokenizer = load_models(\"saiful9379/Bangla_GPT2\")"
   ]
  },
  {
   "cell_type": "code",
   "execution_count": 3,
   "id": "9e7638fb",
   "metadata": {},
   "outputs": [
    {
     "name": "stderr",
     "output_type": "stream",
     "text": [
      "The attention mask and the pad token id were not set. As a consequence, you may observe unexpected behavior. Please pass your input's `attention_mask` to obtain reliable results.\n",
      "Setting `pad_token_id` to 2 (first `eos_token_id`) to generate sequence\n"
     ]
    },
    {
     "name": "stdout",
     "output_type": "stream",
     "text": [
      "tf.Tensor(\n",
      "[[208 172 211 197 200 186 174 173 174 185 172 183 176 178 225 180 275 174\n",
      "  750 173 183 172 174 207 173 183 176 434 172 183 172]], shape=(1, 31), dtype=int32)\n"
     ]
    }
   ],
   "source": [
    "text = [\"গাজীপুরের কালিয়াকৈর উপজেলার তেলিরচালা\"]\n",
    "p_text = prediction(text[0], model, tokenizer )"
   ]
  },
  {
   "cell_type": "code",
   "execution_count": 4,
   "id": "d5a0b104",
   "metadata": {},
   "outputs": [
    {
     "name": "stdout",
     "output_type": "stream",
     "text": [
      "গাজীপুরের কালিয়াকৈর উপজেলার তেলিরচালা গ্রামে অবস্থিত বিদ্যালয়ের প্রধান শিক্ষক আবদুল হাই বাচ্চুকে গৃহবন্দী করে রাখা হয়েছে এবং তিনি তাঁর ব্যক্তিগত কোনো সম্পর্ক ছাড়তে না দেওয়ায় এলাকাবাসীর উদ্বেগ-উৎকণ্ঠা বেড়েই চলেছে। বৃহস্পতি\n",
      "বিএনপির নেতৃত\n"
     ]
    }
   ],
   "source": [
    "print(p_text)"
   ]
  },
  {
   "cell_type": "code",
   "execution_count": 5,
   "id": "837b113b",
   "metadata": {},
   "outputs": [
    {
     "name": "stderr",
     "output_type": "stream",
     "text": [
      "The attention mask and the pad token id were not set. As a consequence, you may observe unexpected behavior. Please pass your input's `attention_mask` to obtain reliable results.\n",
      "Setting `pad_token_id` to 2 (first `eos_token_id`) to generate sequence\n"
     ]
    },
    {
     "name": "stdout",
     "output_type": "stream",
     "text": [
      "tf.Tensor([[182]], shape=(1, 1), dtype=int32)\n"
     ]
    }
   ],
   "source": [
    "text = \"বহুল আলোচিত দশম জাতীয় সংসদ\"\n",
    "p_text = prediction(text[0], model, tokenizer )"
   ]
  },
  {
   "cell_type": "code",
   "execution_count": 6,
   "id": "2e31eecc",
   "metadata": {},
   "outputs": [
    {
     "data": {
      "text/plain": [
       "'বাচন কমিশনের সাংবিধানিক দায়িত্ব। কিন্তু দুর্ভাগ্যজনকভাবে তারা সেটি করতে পারছে না। প্রথম আলো: আপনাকে ধন্যবাদ। ড. কামাল হোসেন l এই সংকট নিরসনে জাতিসংঘসহ বিদেশি বন্ধুপ্রতিম রাষ্ট্রগুলোর সঙ্গে আলাপ-আলোচনা করে আমরা একটি সমঝোতা চাই। এই ব্যবস্থা পুনরুজ্জীবনে আম'"
      ]
     },
     "execution_count": 6,
     "metadata": {},
     "output_type": "execute_result"
    }
   ],
   "source": [
    "p_text"
   ]
  },
  {
   "cell_type": "code",
   "execution_count": 7,
   "id": "bed45595",
   "metadata": {},
   "outputs": [
    {
     "name": "stderr",
     "output_type": "stream",
     "text": [
      "All model checkpoint layers were used when initializing TFGPT2LMHeadModel.\n",
      "\n",
      "All the layers of TFGPT2LMHeadModel were initialized from the model checkpoint at saiful9379/Bangla_GPT2.\n",
      "If your task is similar to the task the model of the checkpoint was trained on, you can already use TFGPT2LMHeadModel for predictions without further training.\n",
      "The attention mask and the pad token id were not set. As a consequence, you may observe unexpected behavior. Please pass your input's `attention_mask` to obtain reliable results.\n",
      "Setting `pad_token_id` to 2 (first `eos_token_id`) to generate sequence\n"
     ]
    },
    {
     "name": "stdout",
     "output_type": "stream",
     "text": [
      "tf.Tensor([[590 186 183 304 191 215 176 179 782 222 172 179 197 170 166 187 219 436]], shape=(1, 18), dtype=int32)\n",
      "বহুল আলোচিত দশম জাতীয় সংসদ নির্বাচনের তফসিল ঘোষণার পর থেকে এ পর্যন্ত বিভিন্ন স্থানে সহিংসতা ও নাশকতা বেড়ে গেছে। সাম্প্রতিক কালে রাজশাহী. খুলনা. বরিশালসহ অন্য সিটি করপোরেশনে যেসব নেতা-কর্মী গুরুতর অপরাধে মামলা দিচ্ছেন. তাঁরা ক্ষমতাসীন দল ও আইনশৃঙ্খলা রক্ষাকা\n"
     ]
    }
   ],
   "source": [
    "from transformers import TFGPT2LMHeadModel, GPT2Tokenizer\n",
    "\n",
    "tokenizer =  GPT2Tokenizer.from_pretrained(\"saiful9379/Bangla_GPT2\")\n",
    "\n",
    "model = TFGPT2LMHeadModel.from_pretrained(\"saiful9379/Bangla_GPT2\")\n",
    "text = \"বহুল আলোচিত দশম জাতীয় সংসদ\"\n",
    "input_ids = tokenizer.encode(text, return_tensors='tf')\n",
    "\n",
    "print(input_ids)\n",
    "\n",
    "\n",
    "output = model.generate(\n",
    "        input_ids,\n",
    "        max_length=175,\n",
    "        num_beams=10,\n",
    "        temperature=0.7,\n",
    "        no_repeat_ngram_size=2,\n",
    "        num_return_sequences=5\n",
    "    )\n",
    "predicted_text = tokenizer.decode(output[0], skip_special_tokens=True)\n",
    "print(predicted_text)"
   ]
  },
  {
   "cell_type": "code",
   "execution_count": null,
   "id": "9b7c7990",
   "metadata": {},
   "outputs": [],
   "source": []
  }
 ],
 "metadata": {
  "kernelspec": {
   "display_name": "Python [conda env:sufia] *",
   "language": "python",
   "name": "conda-env-sufia-py"
  },
  "language_info": {
   "codemirror_mode": {
    "name": "ipython",
    "version": 3
   },
   "file_extension": ".py",
   "mimetype": "text/x-python",
   "name": "python",
   "nbconvert_exporter": "python",
   "pygments_lexer": "ipython3",
   "version": "3.8.13"
  }
 },
 "nbformat": 4,
 "nbformat_minor": 5
}
